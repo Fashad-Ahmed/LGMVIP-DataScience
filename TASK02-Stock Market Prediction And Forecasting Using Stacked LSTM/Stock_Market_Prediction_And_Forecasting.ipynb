{
  "nbformat": 4,
  "nbformat_minor": 0,
  "metadata": {
    "colab": {
      "name": "Stock Market Prediction And Forecasting.ipynb",
      "provenance": [],
      "collapsed_sections": []
    },
    "kernelspec": {
      "name": "python3",
      "display_name": "Python 3"
    },
    "language_info": {
      "name": "python"
    }
  },
  "cells": [
    {
      "cell_type": "markdown",
      "metadata": {
        "id": "tVsBmC3gy1MC"
      },
      "source": [
        "# LetsGrowMore - DataScience Task2\n",
        "# Fashad Ahmed Siddique\n",
        "# Stock Market Prediction And Forecasting Using Stacked LSTM"
      ]
    },
    {
      "cell_type": "code",
      "metadata": {
        "id": "X74Yv2wVwT4S"
      },
      "source": [
        "import numpy as np\n",
        "import pandas as pd\n",
        "import matplotlib.pyplot as plt\n",
        "import seaborn as sns\n",
        "%matplotlib inline"
      ],
      "execution_count": 1,
      "outputs": []
    },
    {
      "cell_type": "code",
      "metadata": {
        "colab": {
          "base_uri": "https://localhost:8080/",
          "height": 326
        },
        "id": "123wcgFyzany",
        "outputId": "9e7bc0a1-9f5d-4c93-bf61-a1fe33ad2b1e"
      },
      "source": [
        "df = pd.read_csv('data.csv')\n",
        "df.head()"
      ],
      "execution_count": 2,
      "outputs": [
        {
          "output_type": "execute_result",
          "data": {
            "text/html": [
              "<div>\n",
              "<style scoped>\n",
              "    .dataframe tbody tr th:only-of-type {\n",
              "        vertical-align: middle;\n",
              "    }\n",
              "\n",
              "    .dataframe tbody tr th {\n",
              "        vertical-align: top;\n",
              "    }\n",
              "\n",
              "    .dataframe thead th {\n",
              "        text-align: right;\n",
              "    }\n",
              "</style>\n",
              "<table border=\"1\" class=\"dataframe\">\n",
              "  <thead>\n",
              "    <tr style=\"text-align: right;\">\n",
              "      <th></th>\n",
              "      <th>Unnamed: 0</th>\n",
              "      <th>symbol</th>\n",
              "      <th>date</th>\n",
              "      <th>close</th>\n",
              "      <th>high</th>\n",
              "      <th>low</th>\n",
              "      <th>open</th>\n",
              "      <th>volume</th>\n",
              "      <th>adjClose</th>\n",
              "      <th>adjHigh</th>\n",
              "      <th>adjLow</th>\n",
              "      <th>adjOpen</th>\n",
              "      <th>adjVolume</th>\n",
              "      <th>divCash</th>\n",
              "      <th>splitFactor</th>\n",
              "    </tr>\n",
              "  </thead>\n",
              "  <tbody>\n",
              "    <tr>\n",
              "      <th>0</th>\n",
              "      <td>0</td>\n",
              "      <td>AAPL</td>\n",
              "      <td>2015-05-27 00:00:00+00:00</td>\n",
              "      <td>132.045</td>\n",
              "      <td>132.260</td>\n",
              "      <td>130.05</td>\n",
              "      <td>130.34</td>\n",
              "      <td>45833246</td>\n",
              "      <td>121.682558</td>\n",
              "      <td>121.880685</td>\n",
              "      <td>119.844118</td>\n",
              "      <td>120.111360</td>\n",
              "      <td>45833246</td>\n",
              "      <td>0.0</td>\n",
              "      <td>1.0</td>\n",
              "    </tr>\n",
              "    <tr>\n",
              "      <th>1</th>\n",
              "      <td>1</td>\n",
              "      <td>AAPL</td>\n",
              "      <td>2015-05-28 00:00:00+00:00</td>\n",
              "      <td>131.780</td>\n",
              "      <td>131.950</td>\n",
              "      <td>131.10</td>\n",
              "      <td>131.86</td>\n",
              "      <td>30733309</td>\n",
              "      <td>121.438354</td>\n",
              "      <td>121.595013</td>\n",
              "      <td>120.811718</td>\n",
              "      <td>121.512076</td>\n",
              "      <td>30733309</td>\n",
              "      <td>0.0</td>\n",
              "      <td>1.0</td>\n",
              "    </tr>\n",
              "    <tr>\n",
              "      <th>2</th>\n",
              "      <td>2</td>\n",
              "      <td>AAPL</td>\n",
              "      <td>2015-05-29 00:00:00+00:00</td>\n",
              "      <td>130.280</td>\n",
              "      <td>131.450</td>\n",
              "      <td>129.90</td>\n",
              "      <td>131.23</td>\n",
              "      <td>50884452</td>\n",
              "      <td>120.056069</td>\n",
              "      <td>121.134251</td>\n",
              "      <td>119.705890</td>\n",
              "      <td>120.931516</td>\n",
              "      <td>50884452</td>\n",
              "      <td>0.0</td>\n",
              "      <td>1.0</td>\n",
              "    </tr>\n",
              "    <tr>\n",
              "      <th>3</th>\n",
              "      <td>3</td>\n",
              "      <td>AAPL</td>\n",
              "      <td>2015-06-01 00:00:00+00:00</td>\n",
              "      <td>130.535</td>\n",
              "      <td>131.390</td>\n",
              "      <td>130.05</td>\n",
              "      <td>131.20</td>\n",
              "      <td>32112797</td>\n",
              "      <td>120.291057</td>\n",
              "      <td>121.078960</td>\n",
              "      <td>119.844118</td>\n",
              "      <td>120.903870</td>\n",
              "      <td>32112797</td>\n",
              "      <td>0.0</td>\n",
              "      <td>1.0</td>\n",
              "    </tr>\n",
              "    <tr>\n",
              "      <th>4</th>\n",
              "      <td>4</td>\n",
              "      <td>AAPL</td>\n",
              "      <td>2015-06-02 00:00:00+00:00</td>\n",
              "      <td>129.960</td>\n",
              "      <td>130.655</td>\n",
              "      <td>129.32</td>\n",
              "      <td>129.86</td>\n",
              "      <td>33667627</td>\n",
              "      <td>119.761181</td>\n",
              "      <td>120.401640</td>\n",
              "      <td>119.171406</td>\n",
              "      <td>119.669029</td>\n",
              "      <td>33667627</td>\n",
              "      <td>0.0</td>\n",
              "      <td>1.0</td>\n",
              "    </tr>\n",
              "  </tbody>\n",
              "</table>\n",
              "</div>"
            ],
            "text/plain": [
              "   Unnamed: 0 symbol  ... divCash  splitFactor\n",
              "0           0   AAPL  ...     0.0          1.0\n",
              "1           1   AAPL  ...     0.0          1.0\n",
              "2           2   AAPL  ...     0.0          1.0\n",
              "3           3   AAPL  ...     0.0          1.0\n",
              "4           4   AAPL  ...     0.0          1.0\n",
              "\n",
              "[5 rows x 15 columns]"
            ]
          },
          "metadata": {},
          "execution_count": 2
        }
      ]
    },
    {
      "cell_type": "code",
      "metadata": {
        "colab": {
          "base_uri": "https://localhost:8080/",
          "height": 326
        },
        "id": "04hQDbE-zitK",
        "outputId": "47ca0552-3673-4337-d647-085a26594a12"
      },
      "source": [
        "df.tail()"
      ],
      "execution_count": 3,
      "outputs": [
        {
          "output_type": "execute_result",
          "data": {
            "text/html": [
              "<div>\n",
              "<style scoped>\n",
              "    .dataframe tbody tr th:only-of-type {\n",
              "        vertical-align: middle;\n",
              "    }\n",
              "\n",
              "    .dataframe tbody tr th {\n",
              "        vertical-align: top;\n",
              "    }\n",
              "\n",
              "    .dataframe thead th {\n",
              "        text-align: right;\n",
              "    }\n",
              "</style>\n",
              "<table border=\"1\" class=\"dataframe\">\n",
              "  <thead>\n",
              "    <tr style=\"text-align: right;\">\n",
              "      <th></th>\n",
              "      <th>Unnamed: 0</th>\n",
              "      <th>symbol</th>\n",
              "      <th>date</th>\n",
              "      <th>close</th>\n",
              "      <th>high</th>\n",
              "      <th>low</th>\n",
              "      <th>open</th>\n",
              "      <th>volume</th>\n",
              "      <th>adjClose</th>\n",
              "      <th>adjHigh</th>\n",
              "      <th>adjLow</th>\n",
              "      <th>adjOpen</th>\n",
              "      <th>adjVolume</th>\n",
              "      <th>divCash</th>\n",
              "      <th>splitFactor</th>\n",
              "    </tr>\n",
              "  </thead>\n",
              "  <tbody>\n",
              "    <tr>\n",
              "      <th>1253</th>\n",
              "      <td>1253</td>\n",
              "      <td>AAPL</td>\n",
              "      <td>2020-05-18 00:00:00+00:00</td>\n",
              "      <td>314.96</td>\n",
              "      <td>316.50</td>\n",
              "      <td>310.3241</td>\n",
              "      <td>313.17</td>\n",
              "      <td>33843125</td>\n",
              "      <td>314.96</td>\n",
              "      <td>316.50</td>\n",
              "      <td>310.3241</td>\n",
              "      <td>313.17</td>\n",
              "      <td>33843125</td>\n",
              "      <td>0.0</td>\n",
              "      <td>1.0</td>\n",
              "    </tr>\n",
              "    <tr>\n",
              "      <th>1254</th>\n",
              "      <td>1254</td>\n",
              "      <td>AAPL</td>\n",
              "      <td>2020-05-19 00:00:00+00:00</td>\n",
              "      <td>313.14</td>\n",
              "      <td>318.52</td>\n",
              "      <td>313.0100</td>\n",
              "      <td>315.03</td>\n",
              "      <td>25432385</td>\n",
              "      <td>313.14</td>\n",
              "      <td>318.52</td>\n",
              "      <td>313.0100</td>\n",
              "      <td>315.03</td>\n",
              "      <td>25432385</td>\n",
              "      <td>0.0</td>\n",
              "      <td>1.0</td>\n",
              "    </tr>\n",
              "    <tr>\n",
              "      <th>1255</th>\n",
              "      <td>1255</td>\n",
              "      <td>AAPL</td>\n",
              "      <td>2020-05-20 00:00:00+00:00</td>\n",
              "      <td>319.23</td>\n",
              "      <td>319.52</td>\n",
              "      <td>316.2000</td>\n",
              "      <td>316.68</td>\n",
              "      <td>27876215</td>\n",
              "      <td>319.23</td>\n",
              "      <td>319.52</td>\n",
              "      <td>316.2000</td>\n",
              "      <td>316.68</td>\n",
              "      <td>27876215</td>\n",
              "      <td>0.0</td>\n",
              "      <td>1.0</td>\n",
              "    </tr>\n",
              "    <tr>\n",
              "      <th>1256</th>\n",
              "      <td>1256</td>\n",
              "      <td>AAPL</td>\n",
              "      <td>2020-05-21 00:00:00+00:00</td>\n",
              "      <td>316.85</td>\n",
              "      <td>320.89</td>\n",
              "      <td>315.8700</td>\n",
              "      <td>318.66</td>\n",
              "      <td>25672211</td>\n",
              "      <td>316.85</td>\n",
              "      <td>320.89</td>\n",
              "      <td>315.8700</td>\n",
              "      <td>318.66</td>\n",
              "      <td>25672211</td>\n",
              "      <td>0.0</td>\n",
              "      <td>1.0</td>\n",
              "    </tr>\n",
              "    <tr>\n",
              "      <th>1257</th>\n",
              "      <td>1257</td>\n",
              "      <td>AAPL</td>\n",
              "      <td>2020-05-22 00:00:00+00:00</td>\n",
              "      <td>318.89</td>\n",
              "      <td>319.23</td>\n",
              "      <td>315.3500</td>\n",
              "      <td>315.77</td>\n",
              "      <td>20450754</td>\n",
              "      <td>318.89</td>\n",
              "      <td>319.23</td>\n",
              "      <td>315.3500</td>\n",
              "      <td>315.77</td>\n",
              "      <td>20450754</td>\n",
              "      <td>0.0</td>\n",
              "      <td>1.0</td>\n",
              "    </tr>\n",
              "  </tbody>\n",
              "</table>\n",
              "</div>"
            ],
            "text/plain": [
              "      Unnamed: 0 symbol  ... divCash  splitFactor\n",
              "1253        1253   AAPL  ...     0.0          1.0\n",
              "1254        1254   AAPL  ...     0.0          1.0\n",
              "1255        1255   AAPL  ...     0.0          1.0\n",
              "1256        1256   AAPL  ...     0.0          1.0\n",
              "1257        1257   AAPL  ...     0.0          1.0\n",
              "\n",
              "[5 rows x 15 columns]"
            ]
          },
          "metadata": {},
          "execution_count": 3
        }
      ]
    },
    {
      "cell_type": "code",
      "metadata": {
        "colab": {
          "base_uri": "https://localhost:8080/"
        },
        "id": "KjLd5svEznIB",
        "outputId": "f5f905dd-6d1a-4af5-8b1d-97edeab14cd0"
      },
      "source": [
        "df.info()"
      ],
      "execution_count": 4,
      "outputs": [
        {
          "output_type": "stream",
          "name": "stdout",
          "text": [
            "<class 'pandas.core.frame.DataFrame'>\n",
            "RangeIndex: 1258 entries, 0 to 1257\n",
            "Data columns (total 15 columns):\n",
            " #   Column       Non-Null Count  Dtype  \n",
            "---  ------       --------------  -----  \n",
            " 0   Unnamed: 0   1258 non-null   int64  \n",
            " 1   symbol       1258 non-null   object \n",
            " 2   date         1258 non-null   object \n",
            " 3   close        1258 non-null   float64\n",
            " 4   high         1258 non-null   float64\n",
            " 5   low          1258 non-null   float64\n",
            " 6   open         1258 non-null   float64\n",
            " 7   volume       1258 non-null   int64  \n",
            " 8   adjClose     1258 non-null   float64\n",
            " 9   adjHigh      1258 non-null   float64\n",
            " 10  adjLow       1258 non-null   float64\n",
            " 11  adjOpen      1258 non-null   float64\n",
            " 12  adjVolume    1258 non-null   int64  \n",
            " 13  divCash      1258 non-null   float64\n",
            " 14  splitFactor  1258 non-null   float64\n",
            "dtypes: float64(10), int64(3), object(2)\n",
            "memory usage: 147.5+ KB\n"
          ]
        }
      ]
    },
    {
      "cell_type": "code",
      "metadata": {
        "colab": {
          "base_uri": "https://localhost:8080/"
        },
        "id": "zv5BN8VIzoxz",
        "outputId": "3a7de87c-b27d-451d-ddb5-91cfb41d427b"
      },
      "source": [
        "df_close = df.reset_index()['close']\n",
        "df_close.head()"
      ],
      "execution_count": 5,
      "outputs": [
        {
          "output_type": "execute_result",
          "data": {
            "text/plain": [
              "0    132.045\n",
              "1    131.780\n",
              "2    130.280\n",
              "3    130.535\n",
              "4    129.960\n",
              "Name: close, dtype: float64"
            ]
          },
          "metadata": {},
          "execution_count": 5
        }
      ]
    },
    {
      "cell_type": "code",
      "metadata": {
        "colab": {
          "base_uri": "https://localhost:8080/"
        },
        "id": "UD9qt7CA1XkT",
        "outputId": "bc3be877-8bbb-4911-f9cf-9594501a81c2"
      },
      "source": [
        "df_close"
      ],
      "execution_count": 6,
      "outputs": [
        {
          "output_type": "execute_result",
          "data": {
            "text/plain": [
              "0       132.045\n",
              "1       131.780\n",
              "2       130.280\n",
              "3       130.535\n",
              "4       129.960\n",
              "         ...   \n",
              "1253    314.960\n",
              "1254    313.140\n",
              "1255    319.230\n",
              "1256    316.850\n",
              "1257    318.890\n",
              "Name: close, Length: 1258, dtype: float64"
            ]
          },
          "metadata": {},
          "execution_count": 6
        }
      ]
    },
    {
      "cell_type": "markdown",
      "metadata": {
        "id": "Qr3sLRi31o4K"
      },
      "source": [
        "Plotting the Close stock DataFrame\n"
      ]
    },
    {
      "cell_type": "code",
      "metadata": {
        "colab": {
          "base_uri": "https://localhost:8080/",
          "height": 282
        },
        "id": "_QCYViyf1gA-",
        "outputId": "d9f45060-48c9-4e08-fae6-2fca2c70abe4"
      },
      "source": [
        "plt.plot(df_close)"
      ],
      "execution_count": 7,
      "outputs": [
        {
          "output_type": "execute_result",
          "data": {
            "text/plain": [
              "[<matplotlib.lines.Line2D at 0x7f92384a2f10>]"
            ]
          },
          "metadata": {},
          "execution_count": 7
        },
        {
          "output_type": "display_data",
          "data": {
            "image/png": "[encoded data removed]",
            "text/plain": [
              "<Figure size 432x288 with 1 Axes>"
            ]
          },
          "metadata": {
            "needs_background": "light"
          }
        }
      ]
    },
    {
      "cell_type": "markdown",
      "metadata": {
        "id": "6U5y0tE67zp7"
      },
      "source": [
        "Applying MinMax scale because LSTM is sensitive to scale of data."
      ]
    },
    {
      "cell_type": "code",
      "metadata": {
        "id": "mgiwQgsw1zNY"
      },
      "source": [
        "from sklearn.preprocessing import MinMaxScaler"
      ],
      "execution_count": 8,
      "outputs": []
    },
    {
      "cell_type": "code",
      "metadata": {
        "id": "odwyjlkY8EDn"
      },
      "source": [
        "scaler = MinMaxScaler(feature_range=(0,1))\n",
        "df_close = scaler.fit_transform(np.array(df_close).reshape(-1,1))"
      ],
      "execution_count": 9,
      "outputs": []
    },
    {
      "cell_type": "code",
      "metadata": {
        "colab": {
          "base_uri": "https://localhost:8080/"
        },
        "id": "JiCYMYBv-BRO",
        "outputId": "7f92e417-e010-4a5f-95b2-cb1703c2b83a"
      },
      "source": [
        "df_close"
      ],
      "execution_count": 10,
      "outputs": [
        {
          "output_type": "execute_result",
          "data": {
            "text/plain": [
              "array([[0.17607447],\n",
              "       [0.17495567],\n",
              "       [0.16862282],\n",
              "       ...,\n",
              "       [0.96635143],\n",
              "       [0.9563033 ],\n",
              "       [0.96491598]])"
            ]
          },
          "metadata": {},
          "execution_count": 10
        }
      ]
    },
    {
      "cell_type": "markdown",
      "metadata": {
        "id": "hHqmG567G8t5"
      },
      "source": [
        "Data Preprocessing"
      ]
    },
    {
      "cell_type": "code",
      "metadata": {
        "id": "iWhLhfzZ-P5m"
      },
      "source": [
        "train_size = int(len(df_close)*0.65)\n",
        "test_size = len(df_close)-train_size"
      ],
      "execution_count": 11,
      "outputs": []
    },
    {
      "cell_type": "code",
      "metadata": {
        "id": "zRFV8uLpLGXy"
      },
      "source": [
        "train_data,test_data = df_close[0:train_size],df_close[train_size:len(df_close),:1]"
      ],
      "execution_count": 12,
      "outputs": []
    },
    {
      "cell_type": "code",
      "metadata": {
        "colab": {
          "base_uri": "https://localhost:8080/"
        },
        "id": "QG1h5npVLhAz",
        "outputId": "5e3e8e45-fbb6-4566-ce73-4286f908b10c"
      },
      "source": [
        "train_size,test_size"
      ],
      "execution_count": 13,
      "outputs": [
        {
          "output_type": "execute_result",
          "data": {
            "text/plain": [
              "(817, 441)"
            ]
          },
          "metadata": {},
          "execution_count": 13
        }
      ]
    },
    {
      "cell_type": "markdown",
      "metadata": {
        "id": "PpVKgRSHRocM"
      },
      "source": [
        "Converting array into dataset matrix."
      ]
    },
    {
      "cell_type": "code",
      "metadata": {
        "id": "A62WnWmVLop8"
      },
      "source": [
        "def transfrom_to_dataset(ds, time_stamp=1):\n",
        "  dataX, dataY = [], []\n",
        "  for i in range(len(ds)-time_stamp-1):\n",
        "    var = ds[i:(i+time_stamp),0]\n",
        "    dataX.append(var)\n",
        "    dataY.append(ds[i+time_stamp, 0])\n",
        "  return np.array(dataX), np.array(dataY)"
      ],
      "execution_count": 23,
      "outputs": []
    },
    {
      "cell_type": "markdown",
      "metadata": {
        "id": "_zzy1ZIAsSXU"
      },
      "source": [
        "Reshaping into X=t,t++,t+2,t+3 and Y=t+4"
      ]
    },
    {
      "cell_type": "code",
      "metadata": {
        "id": "eWpL60bqTPQV"
      },
      "source": [
        "time_stamp = 100\n",
        "X_train, y_train = transfrom_to_dataset(train_data, time_stamp)\n",
        "X_test, y_test = transfrom_to_dataset(test_data, time_stamp)"
      ],
      "execution_count": 24,
      "outputs": []
    },
    {
      "cell_type": "markdown",
      "metadata": {
        "id": "gEbYLUgauF02"
      },
      "source": [
        "Inputs ae reshaped as per the requirements for LSTM"
      ]
    },
    {
      "cell_type": "code",
      "metadata": {
        "id": "NJ84j4o_uOug"
      },
      "source": [
        "X_train = X_train.reshape(X_train.shape[0], X_train.shape[1],1)\n",
        "X_test = X_test.reshape(X_test.shape[0], X_test.shape[1],1)"
      ],
      "execution_count": 30,
      "outputs": []
    },
    {
      "cell_type": "markdown",
      "metadata": {
        "id": "yTvhcv-vuu7A"
      },
      "source": [
        "## **LSTM Model**"
      ]
    },
    {
      "cell_type": "code",
      "metadata": {
        "id": "FLTLjBL_uaqk"
      },
      "source": [
        "from tensorflow.keras.models import Sequential\n",
        "from tensorflow.keras.layers import Dense\n",
        "from tensorflow.keras.layers import LSTM"
      ],
      "execution_count": 32,
      "outputs": []
    },
    {
      "cell_type": "code",
      "metadata": {
        "id": "pqTmvWxvwtFw"
      },
      "source": [
        "model=Sequential()\n",
        "model.add(LSTM(50,return_sequences=True,input_shape=(100,1)))\n",
        "model.add(LSTM(50,return_sequences=True))\n",
        "model.add(LSTM(50))\n",
        "model.add(Dense(1))\n",
        "model.compile(loss='mean_squared_error',optimizer='adam')"
      ],
      "execution_count": 33,
      "outputs": []
    },
    {
      "cell_type": "code",
      "metadata": {
        "colab": {
          "base_uri": "https://localhost:8080/"
        },
        "id": "6Ek51403xwN2",
        "outputId": "71f3c1e0-66a4-4bdd-9ede-2bf983480f0b"
      },
      "source": [
        "model.summary()\n"
      ],
      "execution_count": 40,
      "outputs": [
        {
          "output_type": "stream",
          "name": "stdout",
          "text": [
            "Model: \"sequential\"\n",
            "_________________________________________________________________\n",
            "Layer (type)                 Output Shape              Param #   \n",
            "=================================================================\n",
            "lstm (LSTM)                  (None, 100, 50)           10400     \n",
            "_________________________________________________________________\n",
            "lstm_1 (LSTM)                (None, 100, 50)           20200     \n",
            "_________________________________________________________________\n",
            "lstm_2 (LSTM)                (None, 50)                20200     \n",
            "_________________________________________________________________\n",
            "dense (Dense)                (None, 1)                 51        \n",
            "=================================================================\n",
            "Total params: 50,851\n",
            "Trainable params: 50,851\n",
            "Non-trainable params: 0\n",
            "_________________________________________________________________\n"
          ]
        }
      ]
    },
    {
      "cell_type": "code",
      "metadata": {
        "colab": {
          "base_uri": "https://localhost:8080/"
        },
        "id": "LyNsJiPDx5Ne",
        "outputId": "5ae9da92-d3ff-4d67-935a-698161261f65"
      },
      "source": [
        "model.fit(X_train,y_train,validation_data=(X_test,y_test),epochs=100,batch_size=64,verbose=1)"
      ],
      "execution_count": 37,
      "outputs": [
        {
          "output_type": "stream",
          "name": "stdout",
          "text": [
            "Epoch 1/100\n",
            "12/12 [==============================] - 9s 308ms/step - loss: 0.0146 - val_loss: 0.0550\n",
            "Epoch 2/100\n",
            "12/12 [==============================] - 2s 203ms/step - loss: 0.0026 - val_loss: 0.0050\n",
            "Epoch 3/100\n",
            "12/12 [==============================] - 2s 201ms/step - loss: 8.7096e-04 - val_loss: 0.0046\n",
            "Epoch 4/100\n",
            "12/12 [==============================] - 2s 200ms/step - loss: 8.0858e-04 - val_loss: 0.0046\n",
            "Epoch 5/100\n",
            "12/12 [==============================] - 2s 195ms/step - loss: 6.6772e-04 - val_loss: 0.0056\n",
            "Epoch 6/100\n",
            "12/12 [==============================] - 2s 199ms/step - loss: 6.3173e-04 - val_loss: 0.0053\n",
            "Epoch 7/100\n",
            "12/12 [==============================] - 2s 196ms/step - loss: 6.1816e-04 - val_loss: 0.0042\n",
            "Epoch 8/100\n",
            "12/12 [==============================] - 2s 202ms/step - loss: 6.4399e-04 - val_loss: 0.0039\n",
            "Epoch 9/100\n",
            "12/12 [==============================] - 2s 201ms/step - loss: 5.9924e-04 - val_loss: 0.0037\n",
            "Epoch 10/100\n",
            "12/12 [==============================] - 2s 198ms/step - loss: 6.1759e-04 - val_loss: 0.0037\n",
            "Epoch 11/100\n",
            "12/12 [==============================] - 2s 197ms/step - loss: 6.2076e-04 - val_loss: 0.0035\n",
            "Epoch 12/100\n",
            "12/12 [==============================] - 2s 199ms/step - loss: 6.3479e-04 - val_loss: 0.0037\n",
            "Epoch 13/100\n",
            "12/12 [==============================] - 2s 199ms/step - loss: 5.8342e-04 - val_loss: 0.0039\n",
            "Epoch 14/100\n",
            "12/12 [==============================] - 2s 199ms/step - loss: 5.6223e-04 - val_loss: 0.0049\n",
            "Epoch 15/100\n",
            "12/12 [==============================] - 2s 198ms/step - loss: 5.9184e-04 - val_loss: 0.0059\n",
            "Epoch 16/100\n",
            "12/12 [==============================] - 2s 199ms/step - loss: 6.3373e-04 - val_loss: 0.0041\n",
            "Epoch 17/100\n",
            "12/12 [==============================] - 2s 201ms/step - loss: 5.4509e-04 - val_loss: 0.0033\n",
            "Epoch 18/100\n",
            "12/12 [==============================] - 2s 198ms/step - loss: 5.3541e-04 - val_loss: 0.0034\n",
            "Epoch 19/100\n",
            "12/12 [==============================] - 2s 197ms/step - loss: 5.3369e-04 - val_loss: 0.0036\n",
            "Epoch 20/100\n",
            "12/12 [==============================] - 2s 198ms/step - loss: 5.4561e-04 - val_loss: 0.0027\n",
            "Epoch 21/100\n",
            "12/12 [==============================] - 2s 201ms/step - loss: 5.8632e-04 - val_loss: 0.0030\n",
            "Epoch 22/100\n",
            "12/12 [==============================] - 2s 200ms/step - loss: 5.5987e-04 - val_loss: 0.0039\n",
            "Epoch 23/100\n",
            "12/12 [==============================] - 2s 199ms/step - loss: 4.8637e-04 - val_loss: 0.0026\n",
            "Epoch 24/100\n",
            "12/12 [==============================] - 2s 200ms/step - loss: 4.8293e-04 - val_loss: 0.0039\n",
            "Epoch 25/100\n",
            "12/12 [==============================] - 2s 201ms/step - loss: 4.8857e-04 - val_loss: 0.0026\n",
            "Epoch 26/100\n",
            "12/12 [==============================] - 2s 201ms/step - loss: 4.6177e-04 - val_loss: 0.0025\n",
            "Epoch 27/100\n",
            "12/12 [==============================] - 2s 200ms/step - loss: 4.4691e-04 - val_loss: 0.0026\n",
            "Epoch 28/100\n",
            "12/12 [==============================] - 2s 197ms/step - loss: 4.3445e-04 - val_loss: 0.0028\n",
            "Epoch 29/100\n",
            "12/12 [==============================] - 2s 199ms/step - loss: 4.7143e-04 - val_loss: 0.0021\n",
            "Epoch 30/100\n",
            "12/12 [==============================] - 3s 209ms/step - loss: 4.9461e-04 - val_loss: 0.0026\n",
            "Epoch 31/100\n",
            "12/12 [==============================] - 2s 198ms/step - loss: 4.4505e-04 - val_loss: 0.0019\n",
            "Epoch 32/100\n",
            "12/12 [==============================] - 2s 201ms/step - loss: 4.6150e-04 - val_loss: 0.0028\n",
            "Epoch 33/100\n",
            "12/12 [==============================] - 2s 200ms/step - loss: 4.1521e-04 - val_loss: 0.0022\n",
            "Epoch 34/100\n",
            "12/12 [==============================] - 2s 204ms/step - loss: 3.9811e-04 - val_loss: 0.0017\n",
            "Epoch 35/100\n",
            "12/12 [==============================] - 2s 206ms/step - loss: 3.7985e-04 - val_loss: 0.0016\n",
            "Epoch 36/100\n",
            "12/12 [==============================] - 2s 201ms/step - loss: 3.8920e-04 - val_loss: 0.0023\n",
            "Epoch 37/100\n",
            "12/12 [==============================] - 2s 204ms/step - loss: 3.7770e-04 - val_loss: 0.0016\n",
            "Epoch 38/100\n",
            "12/12 [==============================] - 2s 199ms/step - loss: 3.8529e-04 - val_loss: 0.0025\n",
            "Epoch 39/100\n",
            "12/12 [==============================] - 2s 202ms/step - loss: 3.6601e-04 - val_loss: 0.0016\n",
            "Epoch 40/100\n",
            "12/12 [==============================] - 2s 200ms/step - loss: 3.7935e-04 - val_loss: 0.0021\n",
            "Epoch 41/100\n",
            "12/12 [==============================] - 2s 203ms/step - loss: 3.4645e-04 - val_loss: 0.0015\n",
            "Epoch 42/100\n",
            "12/12 [==============================] - 2s 203ms/step - loss: 3.8276e-04 - val_loss: 0.0040\n",
            "Epoch 43/100\n",
            "12/12 [==============================] - 3s 213ms/step - loss: 4.0177e-04 - val_loss: 0.0018\n",
            "Epoch 44/100\n",
            "12/12 [==============================] - 2s 200ms/step - loss: 3.4233e-04 - val_loss: 0.0017\n",
            "Epoch 45/100\n",
            "12/12 [==============================] - 2s 198ms/step - loss: 3.1658e-04 - val_loss: 0.0026\n",
            "Epoch 46/100\n",
            "12/12 [==============================] - 2s 203ms/step - loss: 3.6877e-04 - val_loss: 0.0019\n",
            "Epoch 47/100\n",
            "12/12 [==============================] - 2s 202ms/step - loss: 3.4083e-04 - val_loss: 0.0018\n",
            "Epoch 48/100\n",
            "12/12 [==============================] - 2s 199ms/step - loss: 3.0311e-04 - val_loss: 0.0021\n",
            "Epoch 49/100\n",
            "12/12 [==============================] - 2s 198ms/step - loss: 3.7433e-04 - val_loss: 0.0021\n",
            "Epoch 50/100\n",
            "12/12 [==============================] - 2s 198ms/step - loss: 2.8799e-04 - val_loss: 0.0023\n",
            "Epoch 51/100\n",
            "12/12 [==============================] - 2s 198ms/step - loss: 2.7919e-04 - val_loss: 0.0020\n",
            "Epoch 52/100\n",
            "12/12 [==============================] - 2s 204ms/step - loss: 2.7722e-04 - val_loss: 0.0019\n",
            "Epoch 53/100\n",
            "12/12 [==============================] - 2s 200ms/step - loss: 2.9095e-04 - val_loss: 0.0022\n",
            "Epoch 54/100\n",
            "12/12 [==============================] - 2s 198ms/step - loss: 2.8144e-04 - val_loss: 0.0018\n",
            "Epoch 55/100\n",
            "12/12 [==============================] - 2s 202ms/step - loss: 2.6360e-04 - val_loss: 0.0016\n",
            "Epoch 56/100\n",
            "12/12 [==============================] - 2s 196ms/step - loss: 2.5676e-04 - val_loss: 0.0018\n",
            "Epoch 57/100\n",
            "12/12 [==============================] - 2s 198ms/step - loss: 2.5449e-04 - val_loss: 0.0016\n",
            "Epoch 58/100\n",
            "12/12 [==============================] - 2s 198ms/step - loss: 2.3586e-04 - val_loss: 0.0029\n",
            "Epoch 59/100\n",
            "12/12 [==============================] - 2s 196ms/step - loss: 2.8864e-04 - val_loss: 0.0015\n",
            "Epoch 60/100\n",
            "12/12 [==============================] - 2s 203ms/step - loss: 2.4909e-04 - val_loss: 0.0015\n",
            "Epoch 61/100\n",
            "12/12 [==============================] - 2s 198ms/step - loss: 2.2200e-04 - val_loss: 0.0014\n",
            "Epoch 62/100\n",
            "12/12 [==============================] - 2s 201ms/step - loss: 2.1886e-04 - val_loss: 0.0013\n",
            "Epoch 63/100\n",
            "12/12 [==============================] - 2s 199ms/step - loss: 2.1454e-04 - val_loss: 0.0019\n",
            "Epoch 64/100\n",
            "12/12 [==============================] - 2s 200ms/step - loss: 2.2275e-04 - val_loss: 0.0016\n",
            "Epoch 65/100\n",
            "12/12 [==============================] - 2s 202ms/step - loss: 2.0764e-04 - val_loss: 0.0015\n",
            "Epoch 66/100\n",
            "12/12 [==============================] - 2s 199ms/step - loss: 2.0035e-04 - val_loss: 0.0012\n",
            "Epoch 67/100\n",
            "12/12 [==============================] - 2s 202ms/step - loss: 1.9645e-04 - val_loss: 0.0011\n",
            "Epoch 68/100\n",
            "12/12 [==============================] - 2s 199ms/step - loss: 2.0717e-04 - val_loss: 0.0021\n",
            "Epoch 69/100\n",
            "12/12 [==============================] - 2s 203ms/step - loss: 2.1305e-04 - val_loss: 0.0011\n",
            "Epoch 70/100\n",
            "12/12 [==============================] - 2s 199ms/step - loss: 1.9065e-04 - val_loss: 0.0015\n",
            "Epoch 71/100\n",
            "12/12 [==============================] - 2s 199ms/step - loss: 1.8420e-04 - val_loss: 0.0011\n",
            "Epoch 72/100\n",
            "12/12 [==============================] - 2s 199ms/step - loss: 1.8963e-04 - val_loss: 0.0016\n",
            "Epoch 73/100\n",
            "12/12 [==============================] - 2s 203ms/step - loss: 1.7652e-04 - val_loss: 0.0010\n",
            "Epoch 74/100\n",
            "12/12 [==============================] - 2s 201ms/step - loss: 1.7397e-04 - val_loss: 0.0011\n",
            "Epoch 75/100\n",
            "12/12 [==============================] - 2s 202ms/step - loss: 1.9372e-04 - val_loss: 0.0013\n",
            "Epoch 76/100\n",
            "12/12 [==============================] - 2s 199ms/step - loss: 1.9102e-04 - val_loss: 0.0012\n",
            "Epoch 77/100\n",
            "12/12 [==============================] - 2s 202ms/step - loss: 1.6444e-04 - val_loss: 0.0013\n",
            "Epoch 78/100\n",
            "12/12 [==============================] - 2s 202ms/step - loss: 1.7693e-04 - val_loss: 0.0011\n",
            "Epoch 79/100\n",
            "12/12 [==============================] - 2s 204ms/step - loss: 2.0009e-04 - val_loss: 0.0010\n",
            "Epoch 80/100\n",
            "12/12 [==============================] - 2s 208ms/step - loss: 1.9705e-04 - val_loss: 0.0021\n",
            "Epoch 81/100\n",
            "12/12 [==============================] - 2s 205ms/step - loss: 1.7918e-04 - val_loss: 0.0013\n",
            "Epoch 82/100\n",
            "12/12 [==============================] - 2s 207ms/step - loss: 1.7535e-04 - val_loss: 9.8001e-04\n",
            "Epoch 83/100\n",
            "12/12 [==============================] - 2s 204ms/step - loss: 1.7390e-04 - val_loss: 9.6661e-04\n",
            "Epoch 84/100\n",
            "12/12 [==============================] - 2s 206ms/step - loss: 1.8486e-04 - val_loss: 0.0024\n",
            "Epoch 85/100\n",
            "12/12 [==============================] - 2s 204ms/step - loss: 2.3208e-04 - val_loss: 9.3820e-04\n",
            "Epoch 86/100\n",
            "12/12 [==============================] - 2s 202ms/step - loss: 1.7983e-04 - val_loss: 9.9133e-04\n",
            "Epoch 87/100\n",
            "12/12 [==============================] - 2s 203ms/step - loss: 1.8478e-04 - val_loss: 0.0015\n",
            "Epoch 88/100\n",
            "12/12 [==============================] - 2s 205ms/step - loss: 2.0501e-04 - val_loss: 9.5266e-04\n",
            "Epoch 89/100\n",
            "12/12 [==============================] - 2s 201ms/step - loss: 1.7709e-04 - val_loss: 9.5985e-04\n",
            "Epoch 90/100\n",
            "12/12 [==============================] - 2s 203ms/step - loss: 1.8942e-04 - val_loss: 0.0014\n",
            "Epoch 91/100\n",
            "12/12 [==============================] - 2s 206ms/step - loss: 1.4501e-04 - val_loss: 9.4356e-04\n",
            "Epoch 92/100\n",
            "12/12 [==============================] - 2s 201ms/step - loss: 1.3878e-04 - val_loss: 0.0011\n",
            "Epoch 93/100\n",
            "12/12 [==============================] - 2s 201ms/step - loss: 1.8113e-04 - val_loss: 0.0015\n",
            "Epoch 94/100\n",
            "12/12 [==============================] - 2s 204ms/step - loss: 1.7149e-04 - val_loss: 0.0015\n",
            "Epoch 95/100\n",
            "12/12 [==============================] - 2s 205ms/step - loss: 1.6388e-04 - val_loss: 9.0938e-04\n",
            "Epoch 96/100\n",
            "12/12 [==============================] - 2s 203ms/step - loss: 1.6599e-04 - val_loss: 0.0010\n",
            "Epoch 97/100\n",
            "12/12 [==============================] - 2s 202ms/step - loss: 1.5032e-04 - val_loss: 8.6636e-04\n",
            "Epoch 98/100\n",
            "12/12 [==============================] - 2s 203ms/step - loss: 1.3489e-04 - val_loss: 8.7112e-04\n",
            "Epoch 99/100\n",
            "12/12 [==============================] - 2s 204ms/step - loss: 1.3391e-04 - val_loss: 8.5408e-04\n",
            "Epoch 100/100\n",
            "12/12 [==============================] - 2s 201ms/step - loss: 1.3399e-04 - val_loss: 8.2373e-04\n"
          ]
        },
        {
          "output_type": "execute_result",
          "data": {
            "text/plain": [
              "<keras.callbacks.History at 0x7f91ee04d910>"
            ]
          },
          "metadata": {},
          "execution_count": 37
        }
      ]
    },
    {
      "cell_type": "code",
      "metadata": {
        "id": "gQTtONe3yL9y"
      },
      "source": [
        "import tensorflow as tf"
      ],
      "execution_count": 38,
      "outputs": []
    },
    {
      "cell_type": "code",
      "metadata": {
        "colab": {
          "base_uri": "https://localhost:8080/",
          "height": 35
        },
        "id": "y0qF0pTs0Qpn",
        "outputId": "e6169600-3a82-40db-d159-1e060942dc81"
      },
      "source": [
        "tf.__version__"
      ],
      "execution_count": 39,
      "outputs": [
        {
          "output_type": "execute_result",
          "data": {
            "application/vnd.google.colaboratory.intrinsic+json": {
              "type": "string"
            },
            "text/plain": [
              "'2.6.0'"
            ]
          },
          "metadata": {},
          "execution_count": 39
        }
      ]
    },
    {
      "cell_type": "markdown",
      "metadata": {
        "id": "QJLcpyiZ0a0y"
      },
      "source": [
        "Predictions"
      ]
    },
    {
      "cell_type": "code",
      "metadata": {
        "id": "INAXHSKj0SfY"
      },
      "source": [
        "train_predict = model.predict(X_train)\n",
        "test_predict = model.predict(X_test)"
      ],
      "execution_count": 41,
      "outputs": []
    },
    {
      "cell_type": "code",
      "metadata": {
        "id": "NSCPqFBM0hS_"
      },
      "source": [
        "train_predict=scaler.inverse_transform(train_predict)\n",
        "test_predict=scaler.inverse_transform(test_predict)"
      ],
      "execution_count": 42,
      "outputs": []
    },
    {
      "cell_type": "markdown",
      "metadata": {
        "id": "jGGGi3mZ0mO1"
      },
      "source": [
        "Performnace Metrics"
      ]
    },
    {
      "cell_type": "code",
      "metadata": {
        "id": "ZnZ8DX-M0kae"
      },
      "source": [
        "import math\n",
        "from sklearn.metrics import mean_squared_error\n"
      ],
      "execution_count": 44,
      "outputs": []
    },
    {
      "cell_type": "code",
      "metadata": {
        "colab": {
          "base_uri": "https://localhost:8080/"
        },
        "id": "GbMoU40k0ryk",
        "outputId": "500c3b20-cdc3-4d21-b186-e9c4d0132185"
      },
      "source": [
        "math.sqrt(mean_squared_error(y_train,train_predict))"
      ],
      "execution_count": 45,
      "outputs": [
        {
          "output_type": "execute_result",
          "data": {
            "text/plain": [
              "142.26561003059953"
            ]
          },
          "metadata": {},
          "execution_count": 45
        }
      ]
    },
    {
      "cell_type": "code",
      "metadata": {
        "colab": {
          "base_uri": "https://localhost:8080/"
        },
        "id": "WILvpgsq0wS6",
        "outputId": "54efaa0f-a4e3-4e4c-b328-3caa47973e2a"
      },
      "source": [
        "math.sqrt(mean_squared_error(y_test,test_predict))"
      ],
      "execution_count": 47,
      "outputs": [
        {
          "output_type": "execute_result",
          "data": {
            "text/plain": [
              "237.8588425746558"
            ]
          },
          "metadata": {},
          "execution_count": 47
        }
      ]
    },
    {
      "cell_type": "code",
      "metadata": {
        "colab": {
          "base_uri": "https://localhost:8080/",
          "height": 285
        },
        "id": "uDeqs5-r0y0y",
        "outputId": "767f7e93-9d59-43fe-d6c4-ac67e71e7963"
      },
      "source": [
        "plt.plot(train_predict)"
      ],
      "execution_count": 56,
      "outputs": [
        {
          "output_type": "execute_result",
          "data": {
            "text/plain": [
              "[<matplotlib.lines.Line2D at 0x7f91e90def90>]"
            ]
          },
          "metadata": {},
          "execution_count": 56
        },
        {
          "output_type": "display_data",
          "data": {
            "image/png": "[encoded data removed]",
            "text/plain": [
              "<Figure size 432x288 with 1 Axes>"
            ]
          },
          "metadata": {
            "needs_background": "light"
          }
        }
      ]
    },
    {
      "cell_type": "code",
      "metadata": {
        "colab": {
          "base_uri": "https://localhost:8080/",
          "height": 282
        },
        "id": "8lXkjSxk1J7X",
        "outputId": "15ad8893-f1e0-4623-e95a-0132e297f5ff"
      },
      "source": [
        "plt.plot(test_predict)"
      ],
      "execution_count": 57,
      "outputs": [
        {
          "output_type": "execute_result",
          "data": {
            "text/plain": [
              "[<matplotlib.lines.Line2D at 0x7f91e8594f90>]"
            ]
          },
          "metadata": {},
          "execution_count": 57
        },
        {
          "output_type": "display_data",
          "data": {
            "image/png": "[encoded data removed]",
            "text/plain": [
              "<Figure size 432x288 with 1 Axes>"
            ]
          },
          "metadata": {
            "needs_background": "light"
          }
        }
      ]
    },
    {
      "cell_type": "code",
      "metadata": {
        "colab": {
          "base_uri": "https://localhost:8080/",
          "height": 282
        },
        "id": "ZSl_tMDw1SBO",
        "outputId": "e2e10084-8569-4ba4-b818-ea35d939650e"
      },
      "source": [
        "plt.plot(scaler.inverse_transform(df_close))"
      ],
      "execution_count": 58,
      "outputs": [
        {
          "output_type": "execute_result",
          "data": {
            "text/plain": [
              "[<matplotlib.lines.Line2D at 0x7f91e850f590>]"
            ]
          },
          "metadata": {},
          "execution_count": 58
        },
        {
          "output_type": "display_data",
          "data": {
            "image/png": "[encoded data removed]",
            "text/plain": [
              "<Figure size 432x288 with 1 Axes>"
            ]
          },
          "metadata": {
            "needs_background": "light"
          }
        }
      ]
    },
    {
      "cell_type": "code",
      "metadata": {
        "id": "CdYPSOf_1cKY"
      },
      "source": [
        ""
      ],
      "execution_count": null,
      "outputs": []
    }
  ]
}